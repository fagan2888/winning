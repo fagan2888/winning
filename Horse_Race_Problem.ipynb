{
  "nbformat": 4,
  "nbformat_minor": 0,
  "metadata": {
    "colab": {
      "name": "Horse_Race_Problem.ipynb",
      "provenance": [],
      "authorship_tag": "ABX9TyN9Pj641xoO4N1dgiBv7EDP",
      "include_colab_link": true
    },
    "kernelspec": {
      "name": "python3",
      "display_name": "Python 3"
    }
  },
  "cells": [
    {
      "cell_type": "markdown",
      "metadata": {
        "id": "view-in-github",
        "colab_type": "text"
      },
      "source": [
        "<a href=\"https://colab.research.google.com/github/microprediction/winning/blob/main/Horse_Race_Problem.ipynb\" target=\"_parent\"><img src=\"https://colab.research.google.com/assets/colab-badge.svg\" alt=\"Open In Colab\"/></a>"
      ]
    },
    {
      "cell_type": "code",
      "metadata": {
        "id": "1WNqjvMA3oih"
      },
      "source": [
        "!pip install winning"
      ],
      "execution_count": null,
      "outputs": []
    },
    {
      "cell_type": "code",
      "metadata": {
        "colab": {
          "base_uri": "https://localhost:8080/"
        },
        "id": "sao6EJyw4_sO",
        "outputId": "4185140a-f92c-484a-9835-f9dff358ff49"
      },
      "source": [
        "from winning.skew_calibration import skew_dividend_implied_ability, skew_ability_implied_dividends\n",
        "dividends = [4.0, 4.0, 6.0, 6.0, 12.0, 24.0, 24.0] \n",
        "ability  = skew_dividend_implied_ability(dividends=dividends)\n",
        "prices   = skew_ability_implied_dividends(ability)\n",
        "prices"
      ],
      "execution_count": 6,
      "outputs": [
        {
          "output_type": "execute_result",
          "data": {
            "text/plain": [
              "[4.0009402353395584,\n",
              " 4.0009402353395584,\n",
              " 6.0015392265347325,\n",
              " 6.0015392265347325,\n",
              " 12.003512669865362,\n",
              " 24.00786714139979,\n",
              " 24.00786714139979]"
            ]
          },
          "metadata": {
            "tags": []
          },
          "execution_count": 6
        }
      ]
    }
  ]
}